{
 "cells": [
  {
   "cell_type": "markdown",
   "id": "fe12c203-e6a6-452c-a655-afb8a03a4ff5",
   "metadata": {},
   "source": [
    "# End of week 1 exercise\n",
    "\n",
    "To demonstrate your familiarity with OpenAI API, and also Ollama, build a tool that takes a technical question,  \n",
    "and responds with an explanation. This is a tool that you will be able to use yourself during the course!"
   ]
  },
  {
   "cell_type": "code",
   "execution_count": 33,
   "id": "c1070317-3ed9-4659-abe3-828943230e03",
   "metadata": {},
   "outputs": [],
   "source": [
    "# imports\n",
    "import os\n",
    "import requests\n",
    "from dotenv import load_dotenv\n",
    "from openai import OpenAI\n",
    "from IPython.display import update_display,Markdown"
   ]
  },
  {
   "cell_type": "code",
   "execution_count": 3,
   "id": "4a456906-915a-4bfd-bb9d-57e505c5093f",
   "metadata": {},
   "outputs": [],
   "source": [
    "# constants\n",
    "\n",
    "MODEL_GPT = 'gpt-4o-mini'\n",
    "MODEL_LLAMA = 'llama3.2'"
   ]
  },
  {
   "cell_type": "code",
   "execution_count": 9,
   "id": "a8d7923c-5f28-4c30-8556-342d7c8497c1",
   "metadata": {},
   "outputs": [
    {
     "data": {
      "text/plain": [
       "True"
      ]
     },
     "execution_count": 9,
     "metadata": {},
     "output_type": "execute_result"
    }
   ],
   "source": [
    "# set up environment\n",
    "load_dotenv()"
   ]
  },
  {
   "cell_type": "code",
   "execution_count": 18,
   "id": "3f0d0137-52b0-47a8-81a8-11a90a010798",
   "metadata": {},
   "outputs": [],
   "source": [
    "# here is the question; type over this to ask something new\n",
    "\n",
    "question = \"\"\"\n",
    "Please explain what this code does and why:\n",
    "yield from {book.get(\"author\") for book in books if book.get(\"author\")}\n",
    "\"\"\""
   ]
  },
  {
   "cell_type": "code",
   "execution_count": 19,
   "id": "8366bbe7",
   "metadata": {},
   "outputs": [],
   "source": [
    "messages = [\n",
    "    {\"role\": \"system\", \"content\": \"You are funny teacher\"},\n",
    "    {\"role\": \"user\", \"content\": question}\n",
    "]"
   ]
  },
  {
   "cell_type": "code",
   "execution_count": 35,
   "id": "60ce7000-a4a5-4cce-a261-e75ef45063b4",
   "metadata": {},
   "outputs": [
    {
     "data": {
      "text/markdown": [
       "This code snippet is using a combination of a set comprehension and the `yield from` statement, which is typically found in a generator function. Let's break down what it does:\n",
       "\n",
       "1. **Set Comprehension**:  \n",
       "   `{book.get(\"author\") for book in books if book.get(\"author\")}` is a set comprehension that creates a set of authors. Here's how it works:\n",
       "   - It iterates over each `book` in the `books` collection (which is expected to be a list or any iterable).\n",
       "   - For each `book`, it uses `book.get(\"author\")` to retrieve the author's name.\n",
       "   - The `if book.get(\"author\")` condition checks if the author is not `None` or an empty string (i.e., if the author exists).\n",
       "   - Only authors that pass this check are included in the set. Using a set automatically removes any duplicate author names.\n",
       "\n",
       "2. **`yield from` statement**:  \n",
       "   `yield from` is used in a generator function to yield all values from an iterable. In this case, it is yielding each author's name from the set created in the previous step. This allows the generator to yield results one at a time and is particularly useful for working with larger data sets, as it allows for lazy evaluation (i.e., values are computed only as needed).\n",
       "\n",
       "### So, what does the code do as a whole?\n",
       "\n",
       "This code effectively creates a generator that yields unique author names from a list of books, ensuring that only existing authors (non-null and non-empty) are included. If you were to use this in a generator function, you could iterate over it to get each author's name.\n",
       "\n",
       "### Why is it useful?\n",
       "\n",
       "- **Avoiding Duplicates**: By using a set, it ensures that each author is only yielded once, regardless of how many times they appear in the list of books.\n",
       "- **Lazy Evaluation**: Using `yield` allows you to work with a potentially large dataset without loading everything into memory at once.\n",
       "- **Filtering**: The code automatically ignores books that do not have an author, which keeps the results clean and relevant.\n",
       "\n",
       "If you're working on a project about book authors, this could be a nice, efficient way to get a list of unique authors!"
      ],
      "text/plain": [
       "<IPython.core.display.Markdown object>"
      ]
     },
     "metadata": {},
     "output_type": "display_data"
    }
   ],
   "source": [
    "# Get gpt-4o-mini to answer, with streaming\n",
    "client = OpenAI()\n",
    "\n",
    "stream = client.chat.completions.create(model=MODEL_GPT, messages=messages, stream=True)\n",
    "\n",
    "content_summary = \"\"\n",
    "display_handle = display(Markdown(\"\"), display_id=True)\n",
    "\n",
    "Markdown()\n",
    "\n",
    "for event in stream:\n",
    "    content_summary += event.choices[0].delta.content or ''\n",
    "    update_display(Markdown(content_summary), display_id=display_handle.display_id)\n",
    "    "
   ]
  },
  {
   "cell_type": "code",
   "execution_count": 30,
   "id": "8f7c8ea8-4082-4ad0-8751-3301adcf6538",
   "metadata": {},
   "outputs": [],
   "source": [
    "# Get Llama 3.2 to answer"
   ]
  },
  {
   "cell_type": "code",
   "execution_count": null,
   "id": "ba123f31",
   "metadata": {},
   "outputs": [],
   "source": []
  }
 ],
 "metadata": {
  "kernelspec": {
   "display_name": "llms",
   "language": "python",
   "name": "python3"
  },
  "language_info": {
   "codemirror_mode": {
    "name": "ipython",
    "version": 3
   },
   "file_extension": ".py",
   "mimetype": "text/x-python",
   "name": "python",
   "nbconvert_exporter": "python",
   "pygments_lexer": "ipython3",
   "version": "3.11.12"
  }
 },
 "nbformat": 4,
 "nbformat_minor": 5
}
